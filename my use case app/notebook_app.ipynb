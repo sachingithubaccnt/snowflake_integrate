{
 "metadata": {
  "kernelspec": {
   "display_name": "Streamlit Notebook",
   "name": "streamlit"
  }
 },
 "nbformat_minor": 5,
 "nbformat": 4,
 "cells": [
  {
   "cell_type": "code",
   "id": "3775908f-ca36-4846-8f38-5adca39217f2",
   "metadata": {
    "language": "python",
    "name": "cell1",
    "collapsed": false
   },
   "source": "# Import python packages\nimport streamlit as st\nimport pandas as pd\n\n# We can also use Snowpark for our analyses!\nfrom snowflake.snowpark.context import get_active_session\nsession = get_active_session()\n",
   "execution_count": null,
   "outputs": []
  },
  {
   "cell_type": "code",
   "id": "a9276b82-bd67-40f2-9085-187471fef05a",
   "metadata": {
    "language": "sql",
    "name": "cell12"
   },
   "outputs": [],
   "source": "use role accountadmin",
   "execution_count": null
  },
  {
   "cell_type": "code",
   "id": "8d50cbf4-0c8d-4950-86cb-114990437ac9",
   "metadata": {
    "language": "python",
    "name": "cell2",
    "collapsed": false
   },
   "source": "session.sql(\"\"\"CREATE OR REPLACE DATABASE sales_db;\"\"\").collect()\nsession.sql(\"\"\"CREATE OR REPLACE WAREHOUSE sales_wh\n        WITH WAREHOUSE_SIZE = 'MEDIUM'\n        AUTO_SUSPEND = 300\n        AUTO_RESUME = TRUE\"\"\").collect()\n\n",
   "execution_count": null,
   "outputs": []
  },
  {
   "cell_type": "code",
   "id": "9677d801-595d-426e-bd89-8a1151d843a2",
   "metadata": {
    "language": "sql",
    "name": "cell4",
    "collapsed": false,
    "codeCollapsed": false
   },
   "outputs": [],
   "source": "USE WAREHOUSE sales_wh;\nUSE DATABASE sales_db;\nUSE SCHEMA public;",
   "execution_count": null
  },
  {
   "cell_type": "code",
   "id": "c695373e-ac74-4b62-a1f1-08206cbd5c81",
   "metadata": {
    "language": "python",
    "name": "cell3",
    "collapsed": false
   },
   "source": "# Execute SQL command to create the table\nsession.sql(\"\"\"\n    CREATE OR REPLACE TABLE sales (\n        sale_id INT AUTOINCREMENT PRIMARY KEY,\n        sale_date DATE,\n        amount DECIMAL(10, 2),\n        region VARCHAR(50)\n    );\n\"\"\").collect()\n",
   "execution_count": null,
   "outputs": []
  },
  {
   "cell_type": "code",
   "id": "a2985f3f-9337-4988-be9a-cb64a95ba902",
   "metadata": {
    "language": "python",
    "name": "cell5",
    "collapsed": false
   },
   "outputs": [],
   "source": "# Execute SQL command to insert sample data\nsession.sql(\"\"\"\n    INSERT INTO sales (sale_date, amount, region) VALUES\n    ('2024-01-01', 150.00, 'North'),\n    ('2024-01-02', 200.00, 'South'),\n    ('2024-01-03', 250.00, 'East'),\n    ('2024-01-04', 300.00, 'West'),\n    ('2024-01-05', 350.00, 'North'),\n    ('2024-01-06', 400.00, 'South');\n\"\"\").collect()\n",
   "execution_count": null
  },
  {
   "cell_type": "code",
   "id": "f67da761-d33a-4979-b8fd-60fbad1fad51",
   "metadata": {
    "language": "python",
    "name": "cell6",
    "collapsed": false
   },
   "outputs": [],
   "source": "# Execute SQL command to create a transformed view\nsession.sql(\"\"\"\n    CREATE OR REPLACE VIEW sales_summary AS\n    SELECT\n        region,\n        COUNT(sale_id) AS total_sales,\n        SUM(amount) AS total_amount\n    FROM sales\n    GROUP BY region;\n\"\"\").collect()\n",
   "execution_count": null
  },
  {
   "cell_type": "code",
   "id": "9f9e5475-ac51-4c37-88f0-96567ddc41e1",
   "metadata": {
    "language": "python",
    "name": "cell7",
    "collapsed": false
   },
   "outputs": [],
   "source": "import matplotlib.pyplot as plt\n\n# Fetch data from the view\ndf = session.table(\"sales_summary\").toPandas()\n\n# Data visualization\nplt.figure(figsize=(10, 6))\ndf.plot(kind='bar', x='REGION', y='TOTAL_AMOUNT', legend=False)\nplt.title('Total Sales by Region')\nplt.xlabel('Region')\nplt.ylabel('Sales Amount')\nplt.xticks(rotation=45)\nplt.tight_layout()\nplt.show()\n",
   "execution_count": null
  },
  {
   "cell_type": "code",
   "id": "3d3b1dc2-6659-4e6d-8fc3-b2a4f1031ca6",
   "metadata": {
    "language": "sql",
    "name": "cell8",
    "collapsed": false
   },
   "outputs": [],
   "source": "CREATE OR REPLACE STAGE TELCO_CHURN_EXTERNAL_STAGE_DEMO\n    URL = 's3://sfquickstarts/notebook_demos/churn/' ",
   "execution_count": null
  },
  {
   "cell_type": "code",
   "id": "a18e32cc-bbb4-41ce-96e5-9a385f2a6f91",
   "metadata": {
    "language": "sql",
    "name": "cell9",
    "collapsed": false
   },
   "outputs": [],
   "source": "CREATE FILE FORMAT IF NOT EXISTS MY_PARQUET_FORMAT TYPE = PARQUET COMPRESSION = SNAPPY;",
   "execution_count": null
  },
  {
   "cell_type": "code",
   "id": "05ab3350-0e48-43cc-9b73-48cbadeb12b4",
   "metadata": {
    "language": "sql",
    "name": "cell10",
    "collapsed": false
   },
   "outputs": [],
   "source": "CREATE TABLE if not exists TELCO_CHURN_RAW_DATA_DEMO USING TEMPLATE ( \n    SELECT ARRAY_AGG(OBJECT_CONSTRUCT(*)) \n    FROM \n        TABLE( INFER_SCHEMA( \n        LOCATION => '@TELCO_CHURN_EXTERNAL_STAGE_DEMO', \n        FILE_FORMAT => 'MY_PARQUET_FORMAT',\n        FILES => 'telco_churn.parquet'\n        ) \n    ) \n);",
   "execution_count": null
  },
  {
   "cell_type": "code",
   "id": "8523b39b-33fd-43d0-87da-87cefbf05913",
   "metadata": {
    "language": "sql",
    "name": "cell11"
   },
   "outputs": [],
   "source": "COPY INTO TELCO_CHURN_RAW_DATA_DEMO\nFROM @TELCO_CHURN_EXTERNAL_STAGE_DEMO\nFILES = ('telco_churn.parquet')\nFILE_FORMAT = (\n    TYPE=PARQUET,\n    REPLACE_INVALID_CHARACTERS=TRUE,\n    BINARY_AS_TEXT=FALSE\n)\nMATCH_BY_COLUMN_NAME=CASE_INSENSITIVE\nON_ERROR=ABORT_STATEMENT;",
   "execution_count": null
  }
 ]
}